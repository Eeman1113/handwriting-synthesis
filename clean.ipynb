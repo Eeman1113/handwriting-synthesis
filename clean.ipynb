{
 "cells": [
  {
   "cell_type": "code",
   "execution_count": 5,
   "metadata": {},
   "outputs": [],
   "source": [
    "all_star = \"\"\"Somebody once told me the world is gonna roll me\n",
    "I ain't the sharpest tool in the shed\n",
    "She was looking kind of dumb with her finger and her thumb\n",
    "In the shape of an \"L\" on her forehead\"\"\"\n",
    "\n",
    "s ='''\n",
    "Once upon a time, in a world where the \n",
    "boundaries between heaven and earth blurred,\n",
    "there lived a renowned warrior named Sourav Dutta. \n",
    "Sourav was known far and wide for his exceptional \n",
    "strength, unmatched skills, and unwavering determination. \n",
    "With his chiseled physique and piercing eyes, \n",
    "he was often referred to as the \"Absolute Chad\" by his admirers.\n",
    "\n",
    "In the celestial realms, there existed a \n",
    "fearsome Demon of heaven known as Aman. \n",
    "Aman took the form of a mighty dragon with \n",
    "scales as blue as the sky and flames that \n",
    "burned with an otherworldly intensity. \n",
    "He had terrorized the heavenly creatures \n",
    "for centuries, bringing chaos and despair \n",
    "wherever he flew.\n",
    "\n",
    "The heavenly beings, desperate for a savior, \n",
    "turned their hopes towards Sourav Dutta.\n",
    "\n",
    "Word of the demon's tyranny reached Sourav's ears, \n",
    "and he felt an intense call to action.\n",
    "He knew that defeating Aman would be no easy feat, \n",
    "but Sourav was not one to back down from\n",
    "a challenge. He embarked on a perilous journey,\n",
    "gathering his weapons and honing his skills\n",
    "along the way.\n",
    "\n",
    "Guided by a celestial spirit, Sourav made \n",
    "his way to the celestial realms. The heavenly \n",
    "beings, in awe of his presence, greeted him \n",
    "with reverence. They recounted tales of the \n",
    "devastation caused by Aman and begged Sourav \n",
    "to save them from their eternal torment.\n",
    "\n",
    "With a resolute heart and unwavering \n",
    "determination, Sourav marched towards the lair\n",
    "of the mighty dragon. As he approached, the \n",
    "sky darkened, and the ground trembled beneath \n",
    "his feet. Aman sensed the arrival of his \n",
    "challenger and unleashed his fiery wrath upon Sourav.\n",
    "\n",
    "Undeterred, Sourav swiftly dodged the \n",
    "scorching blue flames, his agility and reflexes \n",
    "unparalleled. With his sword drawn, \n",
    "he lunged towards the dragon, striking with precision \n",
    "and strength. The clash between the Absolute \n",
    "Chad and the Demon of heaven shook the celestial \n",
    "realms, a battle of epic proportions.\n",
    "\n",
    "Aman, with his immense power, fought back \n",
    "fiercely. He unleashed gusts of wind and torrents \n",
    "of fire, but Sourav's determination never wavered. \n",
    "He skillfully maneuvered through the chaos, \n",
    "evading every attack. With each strike of his sword,\n",
    "Sourav chipped away at the dragon's defenses.\n",
    "\n",
    "The battle raged on, and it seemed as though \n",
    "victory might elude Sourav. But in a moment of sheer \n",
    "willpower, he tapped into a hidden reserve of \n",
    "strength. His muscles bulged, and an indomitable aura \n",
    "surrounded him. With an earth-shattering roar, \n",
    "Sourav delivered a final, devastating blow to Aman, \n",
    "piercing through the dragon's heart.\n",
    "\n",
    "As the demon fell, a collective gasp of relief \n",
    "echoed through the celestial realms. The heavenly \n",
    "beings rejoiced, their savior victorious. \n",
    "Sourav Dutta had slain the Demon of heaven, \n",
    "liberating the realm from his reign of terror.\n",
    "\n",
    "From that day forward, Sourav's name was \n",
    "etched in the annals of celestial history. \n",
    "He became a legend, a symbol of bravery and \n",
    "heroism. The heavenly beings revered him as \n",
    "their protector, and his story echoed through \n",
    "generations, inspiring others to rise against \n",
    "adversity.\n",
    "\n",
    "Sourav Dutta, the Absolute Chad, had conquered \n",
    "the heavens, proving that with unwavering \n",
    "determination, even the mightiest of demons \n",
    "could be vanquished.'''"
   ]
  },
  {
   "cell_type": "code",
   "execution_count": 3,
   "metadata": {},
   "outputs": [
    {
     "name": "stdout",
     "output_type": "stream",
     "text": [
      "WARNING:tensorflow:From /Users/eemanmajumder/miniforge3/envs/env_tf/lib/python3.9/site-packages/tensorflow/python/compat/v2_compat.py:107: disable_resource_variables (from tensorflow.python.ops.variable_scope) is deprecated and will be removed in a future version.\n",
      "Instructions for updating:\n",
      "non-resource variables are not supported in the long term\n"
     ]
    }
   ],
   "source": [
    "import numpy as np\n",
    "from handwriting_synthesis import Hand"
   ]
  },
  {
   "cell_type": "code",
   "execution_count": 6,
   "metadata": {},
   "outputs": [
    {
     "name": "stdout",
     "output_type": "stream",
     "text": [
      "INFO:tensorflow:Restoring parameters from model/checkpoint/model-17900\n"
     ]
    },
    {
     "name": "stderr",
     "output_type": "stream",
     "text": [
      "Restoring parameters from model/checkpoint/model-17900\n",
      "Restoring parameters from model/checkpoint/model-17900\n"
     ]
    }
   ],
   "source": [
    "if __name__ == '__main__':\n",
    "    hand = Hand()\n",
    "    lines = s.split(\"\\n\")\n",
    "    biases = [.75 for i in lines]\n",
    "    styles = [12 for i in lines]\n",
    "\n",
    "    hand.write(\n",
    "        filename='img/all_star.svg',\n",
    "        lines=lines,\n",
    "        biases=biases,\n",
    "        styles=styles,\n",
    "    )\n"
   ]
  }
 ],
 "metadata": {
  "kernelspec": {
   "display_name": "env_tf",
   "language": "python",
   "name": "python3"
  },
  "language_info": {
   "codemirror_mode": {
    "name": "ipython",
    "version": 3
   },
   "file_extension": ".py",
   "mimetype": "text/x-python",
   "name": "python",
   "nbconvert_exporter": "python",
   "pygments_lexer": "ipython3",
   "version": "3.9.16"
  },
  "orig_nbformat": 4
 },
 "nbformat": 4,
 "nbformat_minor": 2
}
