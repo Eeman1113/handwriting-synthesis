{
 "cells": [
  {
   "cell_type": "code",
   "execution_count": 5,
   "metadata": {},
   "outputs": [
    {
     "name": "stdout",
     "output_type": "stream",
     "text": [
      "Requirement already satisfied: matplotlib>=2.1.0 in /Users/eemanmajumder/miniforge3/envs/env_tf/lib/python3.9/site-packages (from -r /Users/eemanmajumder/code_shit/writemeuptftwo/handwriting-synthesis/requirements.txt (line 1)) (3.7.1)\n",
      "Collecting pandas>=0.22.0 (from -r /Users/eemanmajumder/code_shit/writemeuptftwo/handwriting-synthesis/requirements.txt (line 2))\n",
      "  Using cached pandas-2.0.3-cp39-cp39-macosx_11_0_arm64.whl (10.9 MB)\n",
      "Collecting scikit-learn>=0.19.1 (from -r /Users/eemanmajumder/code_shit/writemeuptftwo/handwriting-synthesis/requirements.txt (line 3))\n",
      "  Using cached scikit_learn-1.3.0-cp39-cp39-macosx_12_0_arm64.whl (9.5 MB)\n",
      "Requirement already satisfied: scipy>=1.0.0 in /Users/eemanmajumder/miniforge3/envs/env_tf/lib/python3.9/site-packages (from -r /Users/eemanmajumder/code_shit/writemeuptftwo/handwriting-synthesis/requirements.txt (line 4)) (1.11.1)\n",
      "Requirement already satisfied: svgwrite>=1.1.12 in /Users/eemanmajumder/miniforge3/envs/env_tf/lib/python3.9/site-packages (from -r /Users/eemanmajumder/code_shit/writemeuptftwo/handwriting-synthesis/requirements.txt (line 5)) (1.4.3)\n",
      "\u001b[31mERROR: Could not find a version that satisfies the requirement tensorflow==2.12.0 (from versions: 2.13.0rc0, 2.13.0rc1, 2.13.0rc2)\u001b[0m\u001b[31m\n",
      "\u001b[0m\u001b[31mERROR: No matching distribution found for tensorflow==2.12.0\u001b[0m\u001b[31m\n",
      "\u001b[0m"
     ]
    }
   ],
   "source": [
    "!pip install -r /Users/eemanmajumder/code_shit/writemeuptftwo/handwriting-synthesis/requirements.txt"
   ]
  },
  {
   "cell_type": "code",
   "execution_count": 6,
   "metadata": {},
   "outputs": [],
   "source": [
    "!cd /Users/eemanmajumder/code_shit/writemeuptftwo/handwriting-synthesis"
   ]
  },
  {
   "cell_type": "code",
   "execution_count": 7,
   "metadata": {},
   "outputs": [
    {
     "name": "stdout",
     "output_type": "stream",
     "text": [
      "Requirement already satisfied: matplotlib in /Users/eemanmajumder/miniforge3/envs/env_tf/lib/python3.9/site-packages (3.7.1)\n",
      "Requirement already satisfied: contourpy>=1.0.1 in /Users/eemanmajumder/miniforge3/envs/env_tf/lib/python3.9/site-packages (from matplotlib) (1.1.0)\n",
      "Requirement already satisfied: cycler>=0.10 in /Users/eemanmajumder/miniforge3/envs/env_tf/lib/python3.9/site-packages (from matplotlib) (0.11.0)\n",
      "Requirement already satisfied: fonttools>=4.22.0 in /Users/eemanmajumder/miniforge3/envs/env_tf/lib/python3.9/site-packages (from matplotlib) (4.40.0)\n",
      "Requirement already satisfied: kiwisolver>=1.0.1 in /Users/eemanmajumder/miniforge3/envs/env_tf/lib/python3.9/site-packages (from matplotlib) (1.4.4)\n",
      "Requirement already satisfied: numpy>=1.20 in /Users/eemanmajumder/miniforge3/envs/env_tf/lib/python3.9/site-packages (from matplotlib) (1.23.2)\n",
      "Requirement already satisfied: packaging>=20.0 in /Users/eemanmajumder/miniforge3/envs/env_tf/lib/python3.9/site-packages (from matplotlib) (23.1)\n",
      "Requirement already satisfied: pillow>=6.2.0 in /Users/eemanmajumder/miniforge3/envs/env_tf/lib/python3.9/site-packages (from matplotlib) (10.0.0)\n",
      "Requirement already satisfied: pyparsing>=2.3.1 in /Users/eemanmajumder/miniforge3/envs/env_tf/lib/python3.9/site-packages (from matplotlib) (3.1.0)\n",
      "Requirement already satisfied: python-dateutil>=2.7 in /Users/eemanmajumder/miniforge3/envs/env_tf/lib/python3.9/site-packages (from matplotlib) (2.8.2)\n",
      "Requirement already satisfied: importlib-resources>=3.2.0 in /Users/eemanmajumder/miniforge3/envs/env_tf/lib/python3.9/site-packages (from matplotlib) (5.12.0)\n",
      "Requirement already satisfied: zipp>=3.1.0 in /Users/eemanmajumder/miniforge3/envs/env_tf/lib/python3.9/site-packages (from importlib-resources>=3.2.0->matplotlib) (3.15.0)\n",
      "Requirement already satisfied: six>=1.5 in /Users/eemanmajumder/miniforge3/envs/env_tf/lib/python3.9/site-packages (from python-dateutil>=2.7->matplotlib) (1.16.0)\n",
      "Requirement already satisfied: svgwrite in /Users/eemanmajumder/miniforge3/envs/env_tf/lib/python3.9/site-packages (1.4.3)\n",
      "Requirement already satisfied: tensorflow_probability in /Users/eemanmajumder/miniforge3/envs/env_tf/lib/python3.9/site-packages (0.20.1)\n",
      "Requirement already satisfied: absl-py in /Users/eemanmajumder/miniforge3/envs/env_tf/lib/python3.9/site-packages (from tensorflow_probability) (1.4.0)\n",
      "Requirement already satisfied: six>=1.10.0 in /Users/eemanmajumder/miniforge3/envs/env_tf/lib/python3.9/site-packages (from tensorflow_probability) (1.16.0)\n",
      "Requirement already satisfied: numpy>=1.13.3 in /Users/eemanmajumder/miniforge3/envs/env_tf/lib/python3.9/site-packages (from tensorflow_probability) (1.23.2)\n",
      "Requirement already satisfied: decorator in /Users/eemanmajumder/miniforge3/envs/env_tf/lib/python3.9/site-packages (from tensorflow_probability) (5.1.1)\n",
      "Requirement already satisfied: cloudpickle>=1.3 in /Users/eemanmajumder/miniforge3/envs/env_tf/lib/python3.9/site-packages (from tensorflow_probability) (2.2.1)\n",
      "Requirement already satisfied: gast>=0.3.2 in /Users/eemanmajumder/miniforge3/envs/env_tf/lib/python3.9/site-packages (from tensorflow_probability) (0.4.0)\n",
      "Requirement already satisfied: dm-tree in /Users/eemanmajumder/miniforge3/envs/env_tf/lib/python3.9/site-packages (from tensorflow_probability) (0.1.8)\n"
     ]
    }
   ],
   "source": [
    "!pip install matplotlib\n",
    "!pip install svgwrite\n",
    "!pip install tensorflow_probability"
   ]
  },
  {
   "cell_type": "code",
   "execution_count": 8,
   "metadata": {},
   "outputs": [
    {
     "name": "stdout",
     "output_type": "stream",
     "text": [
      "WARNING:tensorflow:From /Users/eemanmajumder/miniforge3/envs/env_tf/lib/python3.9/site-packages/tensorflow/python/compat/v2_compat.py:107: disable_resource_variables (from tensorflow.python.ops.variable_scope) is deprecated and will be removed in a future version.\n",
      "Instructions for updating:\n",
      "non-resource variables are not supported in the long term\n",
      "WARNING:tensorflow:From /Users/eemanmajumder/code_shit/writemeuptftwo/handwriting-synthesis/handwriting_synthesis/rnn/RNN.py:147: dynamic_rnn (from tensorflow.python.ops.rnn) is deprecated and will be removed in a future version.\n",
      "Instructions for updating:\n",
      "Please use `keras.layers.RNN(cell)`, which is equivalent to this API\n"
     ]
    },
    {
     "name": "stderr",
     "output_type": "stream",
     "text": [
      "From /Users/eemanmajumder/code_shit/writemeuptftwo/handwriting-synthesis/handwriting_synthesis/rnn/RNN.py:147: dynamic_rnn (from tensorflow.python.ops.rnn) is deprecated and will be removed in a future version.\n",
      "Instructions for updating:\n",
      "Please use `keras.layers.RNN(cell)`, which is equivalent to this API\n"
     ]
    },
    {
     "name": "stdout",
     "output_type": "stream",
     "text": [
      "WARNING:tensorflow:From /Users/eemanmajumder/miniforge3/envs/env_tf/lib/python3.9/site-packages/keras/layers/rnn/legacy_cells.py:1042: calling Zeros.__init__ (from tensorflow.python.ops.init_ops) with dtype is deprecated and will be removed in a future version.\n",
      "Instructions for updating:\n",
      "Call initializer instance with the dtype argument instead of passing it to the constructor\n"
     ]
    },
    {
     "name": "stderr",
     "output_type": "stream",
     "text": [
      "/Users/eemanmajumder/code_shit/writemeuptftwo/handwriting-synthesis/handwriting_synthesis/rnn/LSTMAttentionCell.py:84: UserWarning: `tf.nn.rnn_cell.LSTMCell` is deprecated and will be removed in a future version. This class is equivalent as `tf.keras.layers.LSTMCell`, and will be replaced by that in Tensorflow 2.0.\n",
      "  cell1 = tfcompat.nn.rnn_cell.LSTMCell(self.lstm_size)\n",
      "From /Users/eemanmajumder/miniforge3/envs/env_tf/lib/python3.9/site-packages/keras/layers/rnn/legacy_cells.py:1042: calling Zeros.__init__ (from tensorflow.python.ops.init_ops) with dtype is deprecated and will be removed in a future version.\n",
      "Instructions for updating:\n",
      "Call initializer instance with the dtype argument instead of passing it to the constructor\n"
     ]
    },
    {
     "name": "stdout",
     "output_type": "stream",
     "text": [
      "WARNING:tensorflow:From /Users/eemanmajumder/miniforge3/envs/env_tf/lib/python3.9/site-packages/tensorflow_probability/python/distributions/distribution.py:342: MultivariateNormalFullCovariance.__init__ (from tensorflow_probability.python.distributions.mvn_full_covariance) is deprecated and will be removed after 2019-12-01.\n",
      "Instructions for updating:\n",
      "`MultivariateNormalFullCovariance` is deprecated, use `MultivariateNormalTriL(loc=loc, scale_tril=tf.linalg.cholesky(covariance_matrix))` instead.\n"
     ]
    },
    {
     "name": "stderr",
     "output_type": "stream",
     "text": [
      "/Users/eemanmajumder/code_shit/writemeuptftwo/handwriting-synthesis/handwriting_synthesis/rnn/LSTMAttentionCell.py:108: UserWarning: `tf.nn.rnn_cell.LSTMCell` is deprecated and will be removed in a future version. This class is equivalent as `tf.keras.layers.LSTMCell`, and will be replaced by that in Tensorflow 2.0.\n",
      "  cell2 = tfcompat.nn.rnn_cell.LSTMCell(self.lstm_size)\n",
      "/Users/eemanmajumder/code_shit/writemeuptftwo/handwriting-synthesis/handwriting_synthesis/rnn/LSTMAttentionCell.py:113: UserWarning: `tf.nn.rnn_cell.LSTMCell` is deprecated and will be removed in a future version. This class is equivalent as `tf.keras.layers.LSTMCell`, and will be replaced by that in Tensorflow 2.0.\n",
      "  cell3 = tfcompat.nn.rnn_cell.LSTMCell(self.lstm_size)\n",
      "From /Users/eemanmajumder/miniforge3/envs/env_tf/lib/python3.9/site-packages/tensorflow_probability/python/distributions/distribution.py:342: MultivariateNormalFullCovariance.__init__ (from tensorflow_probability.python.distributions.mvn_full_covariance) is deprecated and will be removed after 2019-12-01.\n",
      "Instructions for updating:\n",
      "`MultivariateNormalFullCovariance` is deprecated, use `MultivariateNormalTriL(loc=loc, scale_tril=tf.linalg.cholesky(covariance_matrix))` instead.\n"
     ]
    },
    {
     "name": "stdout",
     "output_type": "stream",
     "text": [
      "WARNING:tensorflow:From /Users/eemanmajumder/code_shit/writemeuptftwo/handwriting-synthesis/handwriting_synthesis/rnn/LSTMAttentionCell.py:145: Bernoulli.__init__ (from tensorflow.python.ops.distributions.bernoulli) is deprecated and will be removed after 2019-01-01.\n",
      "Instructions for updating:\n",
      "The TensorFlow Distributions library has moved to TensorFlow Probability (https://github.com/tensorflow/probability). You should update all references to use `tfp.distributions` instead of `tf.distributions`.\n"
     ]
    },
    {
     "name": "stderr",
     "output_type": "stream",
     "text": [
      "From /Users/eemanmajumder/code_shit/writemeuptftwo/handwriting-synthesis/handwriting_synthesis/rnn/LSTMAttentionCell.py:145: Bernoulli.__init__ (from tensorflow.python.ops.distributions.bernoulli) is deprecated and will be removed after 2019-01-01.\n",
      "Instructions for updating:\n",
      "The TensorFlow Distributions library has moved to TensorFlow Probability (https://github.com/tensorflow/probability). You should update all references to use `tfp.distributions` instead of `tf.distributions`.\n"
     ]
    },
    {
     "name": "stdout",
     "output_type": "stream",
     "text": [
      "WARNING:tensorflow:From /Users/eemanmajumder/miniforge3/envs/env_tf/lib/python3.9/site-packages/tensorflow/python/ops/distributions/bernoulli.py:86: Distribution.__init__ (from tensorflow.python.ops.distributions.distribution) is deprecated and will be removed after 2019-01-01.\n",
      "Instructions for updating:\n",
      "The TensorFlow Distributions library has moved to TensorFlow Probability (https://github.com/tensorflow/probability). You should update all references to use `tfp.distributions` instead of `tf.distributions`.\n"
     ]
    },
    {
     "name": "stderr",
     "output_type": "stream",
     "text": [
      "From /Users/eemanmajumder/miniforge3/envs/env_tf/lib/python3.9/site-packages/tensorflow/python/ops/distributions/bernoulli.py:86: Distribution.__init__ (from tensorflow.python.ops.distributions.distribution) is deprecated and will be removed after 2019-01-01.\n",
      "Instructions for updating:\n",
      "The TensorFlow Distributions library has moved to TensorFlow Probability (https://github.com/tensorflow/probability). You should update all references to use `tfp.distributions` instead of `tf.distributions`.\n"
     ]
    },
    {
     "name": "stdout",
     "output_type": "stream",
     "text": [
      "WARNING:tensorflow:From /Users/eemanmajumder/code_shit/writemeuptftwo/handwriting-synthesis/handwriting_synthesis/rnn/LSTMAttentionCell.py:146: Categorical.__init__ (from tensorflow.python.ops.distributions.categorical) is deprecated and will be removed after 2019-01-01.\n",
      "Instructions for updating:\n",
      "The TensorFlow Distributions library has moved to TensorFlow Probability (https://github.com/tensorflow/probability). You should update all references to use `tfp.distributions` instead of `tf.distributions`.\n"
     ]
    },
    {
     "name": "stderr",
     "output_type": "stream",
     "text": [
      "From /Users/eemanmajumder/code_shit/writemeuptftwo/handwriting-synthesis/handwriting_synthesis/rnn/LSTMAttentionCell.py:146: Categorical.__init__ (from tensorflow.python.ops.distributions.categorical) is deprecated and will be removed after 2019-01-01.\n",
      "Instructions for updating:\n",
      "The TensorFlow Distributions library has moved to TensorFlow Probability (https://github.com/tensorflow/probability). You should update all references to use `tfp.distributions` instead of `tf.distributions`.\n"
     ]
    },
    {
     "name": "stdout",
     "output_type": "stream",
     "text": [
      "WARNING:tensorflow:From /Users/eemanmajumder/miniforge3/envs/env_tf/lib/python3.9/site-packages/tensorflow/python/util/dispatch.py:1176: multinomial (from tensorflow.python.ops.random_ops) is deprecated and will be removed in a future version.\n",
      "Instructions for updating:\n",
      "Use `tf.random.categorical` instead.\n"
     ]
    },
    {
     "name": "stderr",
     "output_type": "stream",
     "text": [
      "From /Users/eemanmajumder/miniforge3/envs/env_tf/lib/python3.9/site-packages/tensorflow/python/util/dispatch.py:1176: multinomial (from tensorflow.python.ops.random_ops) is deprecated and will be removed in a future version.\n",
      "Instructions for updating:\n",
      "Use `tf.random.categorical` instead.\n"
     ]
    },
    {
     "name": "stdout",
     "output_type": "stream",
     "text": [
      "WARNING:tensorflow:From /Users/eemanmajumder/miniforge3/envs/env_tf/lib/python3.9/site-packages/tensorflow/python/training/rmsprop.py:188: calling Ones.__init__ (from tensorflow.python.ops.init_ops) with dtype is deprecated and will be removed in a future version.\n",
      "Instructions for updating:\n",
      "Call initializer instance with the dtype argument instead of passing it to the constructor\n"
     ]
    },
    {
     "name": "stderr",
     "output_type": "stream",
     "text": [
      "From /Users/eemanmajumder/miniforge3/envs/env_tf/lib/python3.9/site-packages/tensorflow/python/training/rmsprop.py:188: calling Ones.__init__ (from tensorflow.python.ops.init_ops) with dtype is deprecated and will be removed in a future version.\n",
      "Instructions for updating:\n",
      "Call initializer instance with the dtype argument instead of passing it to the constructor\n"
     ]
    },
    {
     "name": "stdout",
     "output_type": "stream",
     "text": [
      "INFO:tensorflow:Restoring parameters from model/checkpoint/model-17900\n"
     ]
    },
    {
     "name": "stderr",
     "output_type": "stream",
     "text": [
      "Restoring parameters from model/checkpoint/model-17900\n"
     ]
    }
   ],
   "source": [
    "from handwriting_synthesis.hand import Hand\n",
    "\n",
    "lines = [\n",
    "    \"Father time, I'm running late\",\n",
    "    \"I'm winding down, I'm growing tired\",\n",
    "    \"Seconds drift into the night\",\n",
    "    \"The clock just ticks till my time expires\",\n",
    "]\n",
    "biases = [.75 for _ in lines]\n",
    "styles = [9 for _ in lines]\n",
    "stroke_colors = ['red', 'green', 'black', 'blue']\n",
    "stroke_widths = [1, 2, 1, 2]\n",
    "\n",
    "hand = Hand()\n",
    "hand.write(\n",
    "    filename='img/usage_demo.svg',\n",
    "    lines=lines,\n",
    "    biases=biases,\n",
    "    styles=styles,\n",
    "    stroke_colors=stroke_colors,\n",
    "    stroke_widths=stroke_widths\n",
    ")"
   ]
  },
  {
   "cell_type": "code",
   "execution_count": 9,
   "metadata": {},
   "outputs": [
    {
     "data": {
      "text/plain": [
       "35"
      ]
     },
     "execution_count": 9,
     "metadata": {},
     "output_type": "execute_result"
    }
   ],
   "source": [
    "def line_seperator(n):\n",
    "    l=n.split('.')\n",
    "    return l\n",
    "s ='''\n",
    "Once upon a time, in a world where the boundaries between heaven and earth blurred, there lived a renowned warrior named Sourav Dutta. Sourav was known far and wide for his exceptional strength, unmatched skills, and unwavering determination. With his chiseled physique and piercing eyes, he was often referred to as the \"Absolute Chad\" by his admirers.\n",
    "\n",
    "In the celestial realms, there existed a fearsome Demon of heaven known as Aman. Aman took the form of a mighty dragon with scales as blue as the sky and flames that burned with an otherworldly intensity. He had terrorized the heavenly creatures for centuries, bringing chaos and despair wherever he flew. The heavenly beings, desperate for a savior, turned their hopes towards Sourav Dutta.\n",
    "\n",
    "Word of the demon's tyranny reached Sourav's ears, and he felt an intense call to action. He knew that defeating Aman would be no easy feat, but Sourav was not one to back down from a challenge. He embarked on a perilous journey, gathering his weapons and honing his skills along the way.\n",
    "\n",
    "Guided by a celestial spirit, Sourav made his way to the celestial realms. The heavenly beings, in awe of his presence, greeted him with reverence. They recounted tales of the devastation caused by Aman and begged Sourav to save them from their eternal torment.\n",
    "\n",
    "With a resolute heart and unwavering determination, Sourav marched towards the lair of the mighty dragon. As he approached, the sky darkened, and the ground trembled beneath his feet. Aman sensed the arrival of his challenger and unleashed his fiery wrath upon Sourav.\n",
    "\n",
    "Undeterred, Sourav swiftly dodged the scorching blue flames, his agility and reflexes unparalleled. With his sword drawn, he lunged towards the dragon, striking with precision and strength. The clash between the Absolute Chad and the Demon of heaven shook the celestial realms, a battle of epic proportions.\n",
    "\n",
    "Aman, with his immense power, fought back fiercely. He unleashed gusts of wind and torrents of fire, but Sourav's determination never wavered. He skillfully maneuvered through the chaos, evading every attack. With each strike of his sword, Sourav chipped away at the dragon's defenses.\n",
    "\n",
    "The battle raged on, and it seemed as though victory might elude Sourav. But in a moment of sheer willpower, he tapped into a hidden reserve of strength. His muscles bulged, and an indomitable aura surrounded him. With an earth-shattering roar, Sourav delivered a final, devastating blow to Aman, piercing through the dragon's heart.\n",
    "\n",
    "As the demon fell, a collective gasp of relief echoed through the celestial realms. The heavenly beings rejoiced, their savior victorious. Sourav Dutta had slain the Demon of heaven, liberating the realm from his reign of terror.\n",
    "\n",
    "From that day forward, Sourav's name was etched in the annals of celestial history. He became a legend, a symbol of bravery and heroism. The heavenly beings revered him as their protector, and his story echoed through generations, inspiring others to rise against adversity.\n",
    "\n",
    "Sourav Dutta, the Absolute Chad, had conquered the heavens, proving that with unwavering determination, even the mightiest of demons could be vanquished.'''\n",
    "k=line_seperator(s)\n",
    "len(k)"
   ]
  },
  {
   "cell_type": "code",
   "execution_count": 10,
   "metadata": {},
   "outputs": [
    {
     "data": {
      "text/plain": [
       "44"
      ]
     },
     "execution_count": 10,
     "metadata": {},
     "output_type": "execute_result"
    }
   ],
   "source": [
    "def chunk_paragraph(paragraph):\n",
    "    chunked_paragraph = []\n",
    "    current_chunk = ''\n",
    "    \n",
    "    for word in paragraph.split():\n",
    "        if len(current_chunk) + len(word) + 1 <= 75:\n",
    "            current_chunk += word + ' '\n",
    "        else:\n",
    "            chunked_paragraph.append(current_chunk.strip())\n",
    "            current_chunk = word + ' '\n",
    "    \n",
    "    # Add the remaining chunk\n",
    "    if current_chunk:\n",
    "        chunked_paragraph.append(current_chunk.strip())\n",
    "    \n",
    "    return chunked_paragraph\n",
    "\n",
    "chunked_paragraphs = chunk_paragraph(s)\n",
    "len(chunked_paragraphs)"
   ]
  },
  {
   "cell_type": "code",
   "execution_count": 11,
   "metadata": {},
   "outputs": [
    {
     "name": "stdout",
     "output_type": "stream",
     "text": [
      "['Once upon a time, in a world where the boundaries between heaven and earth', 'blurred, there lived a renowned warrior named Sourav Dutta. Sourav was', 'known far and wide for his exceptional strength, unmatched skills, and', 'unwavering determination. With his chiseled physique and piercing eyes, he', 'was often referred to as the \"Absolute Chad\" by his admirers. In the', 'celestial realms, there existed a fearsome Demon of heaven known as Aman.', 'Aman took the form of a mighty dragon with scales as blue as the sky and', 'flames that burned with an otherworldly intensity. He had terrorized the', 'heavenly creatures for centuries, bringing chaos and despair wherever he', 'flew. The heavenly beings, desperate for a savior, turned their hopes', \"towards Sourav Dutta. Word of the demon's tyranny reached Sourav's ears,\", 'and he felt an intense call to action. He knew that defeating Aman would', 'be no easy feat, but Sourav was not one to back down from a challenge. He', 'embarked on a perilous journey, gathering his weapons and honing his', 'skills along the way. Guided by a celestial spirit, Sourav made his way to', 'the celestial realms. The heavenly beings, in awe of his presence, greeted', 'him with reverence. They recounted tales of the devastation caused by Aman', 'and begged Sourav to save them from their eternal torment. With a resolute', 'heart and unwavering determination, Sourav marched towards the lair of the', 'mighty dragon. As he approached, the sky darkened, and the ground trembled', 'beneath his feet. Aman sensed the arrival of his challenger and unleashed', 'his fiery wrath upon Sourav. Undeterred, Sourav swiftly dodged the', 'scorching blue flames, his agility and reflexes unparalleled. With his', 'sword drawn, he lunged towards the dragon, striking with precision and', 'strength. The clash between the Absolute Chad and the Demon of heaven', 'shook the celestial realms, a battle of epic proportions. Aman, with his', 'immense power, fought back fiercely. He unleashed gusts of wind and', \"torrents of fire, but Sourav's determination never wavered. He skillfully\", 'maneuvered through the chaos, evading every attack. With each strike of', \"his sword, Sourav chipped away at the dragon's defenses. The battle raged\", 'on, and it seemed as though victory might elude Sourav. But in a moment of', 'sheer willpower, he tapped into a hidden reserve of strength. His muscles', 'bulged, and an indomitable aura surrounded him. With an earth-shattering', 'roar, Sourav delivered a final, devastating blow to Aman, piercing through', \"the dragon's heart. As the demon fell, a collective gasp of relief echoed\", 'through the celestial realms. The heavenly beings rejoiced, their savior', 'victorious. Sourav Dutta had slain the Demon of heaven, liberating the', \"realm from his reign of terror. From that day forward, Sourav's name was\", 'etched in the annals of celestial history. He became a legend, a symbol of', 'bravery and heroism. The heavenly beings revered him as their protector,', 'and his story echoed through generations, inspiring others to rise against', 'adversity. Sourav Dutta, the Absolute Chad, had conquered the heavens,', 'proving that with unwavering determination, even the mightiest of demons', 'could be vanquished.']\n"
     ]
    }
   ],
   "source": [
    "print(chunked_paragraphs)"
   ]
  },
  {
   "cell_type": "code",
   "execution_count": 12,
   "metadata": {},
   "outputs": [
    {
     "name": "stdout",
     "output_type": "stream",
     "text": [
      "INFO:tensorflow:Restoring parameters from model/checkpoint/model-17900\n"
     ]
    },
    {
     "name": "stderr",
     "output_type": "stream",
     "text": [
      "Restoring parameters from model/checkpoint/model-17900\n",
      "Restoring parameters from model/checkpoint/model-17900\n"
     ]
    }
   ],
   "source": [
    "from handwriting_synthesis.hand import Hand\n",
    "\n",
    "lines = [\"1\"]\n",
    "biases = [.75 for _ in lines]\n",
    "styles = [7 for _ in lines]\n",
    "# stroke_colors = ['blue','red', 'green', 'black' ]\n",
    "# stroke_colors = ['black','black', 'black', 'black','black']\n",
    "# stroke_widths = [1, 1, 1,1,1]\n",
    "\n",
    "hand = Hand()\n",
    "hand.write(\n",
    "    filename='img/usage_demo.svg',\n",
    "    lines=lines,\n",
    "    biases=biases,\n",
    "    styles=styles,\n",
    "\n",
    ")"
   ]
  },
  {
   "cell_type": "code",
   "execution_count": 13,
   "metadata": {},
   "outputs": [
    {
     "data": {
      "text/plain": [
       "[['Once upon a time, in a world where the boundaries between heaven and earth',\n",
       "  'blurred, there lived a renowned warrior named Sourav Dutta. Sourav was',\n",
       "  'known far and wide for his exceptional strength, unmatched skills, and',\n",
       "  'unwavering determination. With his chiseled physique and piercing eyes, he',\n",
       "  'was often referred to as the \"Absolute Chad\" by his admirers. In the',\n",
       "  'celestial realms, there existed a fearsome Demon of heaven known as Aman.',\n",
       "  'Aman took the form of a mighty dragon with scales as blue as the sky and',\n",
       "  'flames that burned with an otherworldly intensity. He had terrorized the',\n",
       "  'heavenly creatures for centuries, bringing chaos and despair wherever he',\n",
       "  'flew. The heavenly beings, desperate for a savior, turned their hopes',\n",
       "  \"towards Sourav Dutta. Word of the demon's tyranny reached Sourav's ears,\",\n",
       "  'and he felt an intense call to action. He knew that defeating Aman would',\n",
       "  'be no easy feat, but Sourav was not one to back down from a challenge. He',\n",
       "  'embarked on a perilous journey, gathering his weapons and honing his',\n",
       "  'skills along the way. Guided by a celestial spirit, Sourav made his way to',\n",
       "  'the celestial realms. The heavenly beings, in awe of his presence, greeted',\n",
       "  'him with reverence. They recounted tales of the devastation caused by Aman',\n",
       "  'and begged Sourav to save them from their eternal torment. With a resolute',\n",
       "  'heart and unwavering determination, Sourav marched towards the lair of the',\n",
       "  'mighty dragon. As he approached, the sky darkened, and the ground trembled',\n",
       "  'beneath his feet. Aman sensed the arrival of his challenger and unleashed',\n",
       "  'his fiery wrath upon Sourav. Undeterred, Sourav swiftly dodged the',\n",
       "  'scorching blue flames, his agility and reflexes unparalleled. With his',\n",
       "  'sword drawn, he lunged towards the dragon, striking with precision and',\n",
       "  'strength. The clash between the Absolute Chad and the Demon of heaven',\n",
       "  'shook the celestial realms, a battle of epic proportions. Aman, with his',\n",
       "  'immense power, fought back fiercely. He unleashed gusts of wind and',\n",
       "  \"torrents of fire, but Sourav's determination never wavered. He skillfully\",\n",
       "  'maneuvered through the chaos, evading every attack. With each strike of',\n",
       "  \"his sword, Sourav chipped away at the dragon's defenses. The battle raged\",\n",
       "  'on, and it seemed as though victory might elude Sourav. But in a moment of',\n",
       "  'sheer willpower, he tapped into a hidden reserve of strength. His muscles',\n",
       "  'bulged, and an indomitable aura surrounded him. With an earth-shattering'],\n",
       " ['roar, Sourav delivered a final, devastating blow to Aman, piercing through',\n",
       "  \"the dragon's heart. As the demon fell, a collective gasp of relief echoed\",\n",
       "  'through the celestial realms. The heavenly beings rejoiced, their savior',\n",
       "  'victorious. Sourav Dutta had slain the Demon of heaven, liberating the',\n",
       "  \"realm from his reign of terror. From that day forward, Sourav's name was\",\n",
       "  'etched in the annals of celestial history. He became a legend, a symbol of',\n",
       "  'bravery and heroism. The heavenly beings revered him as their protector,',\n",
       "  'and his story echoed through generations, inspiring others to rise against',\n",
       "  'adversity. Sourav Dutta, the Absolute Chad, had conquered the heavens,',\n",
       "  'proving that with unwavering determination, even the mightiest of demons',\n",
       "  'could be vanquished.']]"
      ]
     },
     "execution_count": 13,
     "metadata": {},
     "output_type": "execute_result"
    }
   ],
   "source": [
    "\n",
    "def writemeup(n:list):\n",
    "    #make pages\n",
    "    l=[]\n",
    "    for i in range(0,len(n),33):\n",
    "        l.append(n[i:i+33])\n",
    "\n",
    "    return l\n",
    "writemeup(chunked_paragraphs)"
   ]
  },
  {
   "cell_type": "code",
   "execution_count": 14,
   "metadata": {},
   "outputs": [
    {
     "name": "stdout",
     "output_type": "stream",
     "text": [
      "INFO:tensorflow:Restoring parameters from model/checkpoint/model-17900\n"
     ]
    },
    {
     "name": "stderr",
     "output_type": "stream",
     "text": [
      "Restoring parameters from model/checkpoint/model-17900\n",
      "Restoring parameters from model/checkpoint/model-17900\n",
      "Restoring parameters from model/checkpoint/model-17900\n"
     ]
    },
    {
     "name": "stdout",
     "output_type": "stream",
     "text": [
      "INFO:tensorflow:Restoring parameters from model/checkpoint/model-17900\n"
     ]
    },
    {
     "name": "stderr",
     "output_type": "stream",
     "text": [
      "Restoring parameters from model/checkpoint/model-17900\n",
      "Restoring parameters from model/checkpoint/model-17900\n",
      "Restoring parameters from model/checkpoint/model-17900\n",
      "Restoring parameters from model/checkpoint/model-17900\n"
     ]
    }
   ],
   "source": [
    "#page creation 75 char per line / 33 lines per page \n",
    "\n",
    "def writemeup(n:list):\n",
    "    #make pages\n",
    "    l=[]\n",
    "    for i in range(0,len(n),33):\n",
    "        l.append(n[i:i+33])\n",
    "\n",
    "    return l\n",
    "\n",
    "k=writemeup(chunked_paragraphs)\n",
    "for i in range(0,len(k)):\n",
    "    lines=k[i]\n",
    "    biases = [.75 for _ in lines]\n",
    "    styles = [8 for i in lines]\n",
    "    hand = Hand()\n",
    "    hand.write(\n",
    "        filename=f'img/pages/page{i+1}.svg',\n",
    "        lines=lines,\n",
    "        biases=biases,\n",
    "        styles=styles\n",
    "    )\n"
   ]
  },
  {
   "cell_type": "code",
   "execution_count": 1,
   "metadata": {},
   "outputs": [
    {
     "name": "stdout",
     "output_type": "stream",
     "text": [
      "WARNING:tensorflow:From /Users/eemanmajumder/miniforge3/envs/env_tf/lib/python3.9/site-packages/tensorflow/python/compat/v2_compat.py:107: disable_resource_variables (from tensorflow.python.ops.variable_scope) is deprecated and will be removed in a future version.\n",
      "Instructions for updating:\n",
      "non-resource variables are not supported in the long term\n",
      "WARNING:tensorflow:From /Users/eemanmajumder/code_shit/writemeuptftwo/handwriting-synthesis/handwriting_synthesis/rnn/RNN.py:147: dynamic_rnn (from tensorflow.python.ops.rnn) is deprecated and will be removed in a future version.\n",
      "Instructions for updating:\n",
      "Please use `keras.layers.RNN(cell)`, which is equivalent to this API\n"
     ]
    },
    {
     "name": "stderr",
     "output_type": "stream",
     "text": [
      "From /Users/eemanmajumder/code_shit/writemeuptftwo/handwriting-synthesis/handwriting_synthesis/rnn/RNN.py:147: dynamic_rnn (from tensorflow.python.ops.rnn) is deprecated and will be removed in a future version.\n",
      "Instructions for updating:\n",
      "Please use `keras.layers.RNN(cell)`, which is equivalent to this API\n"
     ]
    },
    {
     "name": "stdout",
     "output_type": "stream",
     "text": [
      "WARNING:tensorflow:From /Users/eemanmajumder/miniforge3/envs/env_tf/lib/python3.9/site-packages/keras/layers/rnn/legacy_cells.py:1042: calling Zeros.__init__ (from tensorflow.python.ops.init_ops) with dtype is deprecated and will be removed in a future version.\n",
      "Instructions for updating:\n",
      "Call initializer instance with the dtype argument instead of passing it to the constructor\n"
     ]
    },
    {
     "name": "stderr",
     "output_type": "stream",
     "text": [
      "/Users/eemanmajumder/code_shit/writemeuptftwo/handwriting-synthesis/handwriting_synthesis/rnn/LSTMAttentionCell.py:84: UserWarning: `tf.nn.rnn_cell.LSTMCell` is deprecated and will be removed in a future version. This class is equivalent as `tf.keras.layers.LSTMCell`, and will be replaced by that in Tensorflow 2.0.\n",
      "  cell1 = tfcompat.nn.rnn_cell.LSTMCell(self.lstm_size)\n",
      "From /Users/eemanmajumder/miniforge3/envs/env_tf/lib/python3.9/site-packages/keras/layers/rnn/legacy_cells.py:1042: calling Zeros.__init__ (from tensorflow.python.ops.init_ops) with dtype is deprecated and will be removed in a future version.\n",
      "Instructions for updating:\n",
      "Call initializer instance with the dtype argument instead of passing it to the constructor\n",
      "/Users/eemanmajumder/code_shit/writemeuptftwo/handwriting-synthesis/handwriting_synthesis/rnn/LSTMAttentionCell.py:108: UserWarning: `tf.nn.rnn_cell.LSTMCell` is deprecated and will be removed in a future version. This class is equivalent as `tf.keras.layers.LSTMCell`, and will be replaced by that in Tensorflow 2.0.\n",
      "  cell2 = tfcompat.nn.rnn_cell.LSTMCell(self.lstm_size)\n",
      "/Users/eemanmajumder/code_shit/writemeuptftwo/handwriting-synthesis/handwriting_synthesis/rnn/LSTMAttentionCell.py:113: UserWarning: `tf.nn.rnn_cell.LSTMCell` is deprecated and will be removed in a future version. This class is equivalent as `tf.keras.layers.LSTMCell`, and will be replaced by that in Tensorflow 2.0.\n",
      "  cell3 = tfcompat.nn.rnn_cell.LSTMCell(self.lstm_size)\n"
     ]
    },
    {
     "name": "stdout",
     "output_type": "stream",
     "text": [
      "WARNING:tensorflow:From /Users/eemanmajumder/miniforge3/envs/env_tf/lib/python3.9/site-packages/tensorflow_probability/python/distributions/distribution.py:342: MultivariateNormalFullCovariance.__init__ (from tensorflow_probability.python.distributions.mvn_full_covariance) is deprecated and will be removed after 2019-12-01.\n",
      "Instructions for updating:\n",
      "`MultivariateNormalFullCovariance` is deprecated, use `MultivariateNormalTriL(loc=loc, scale_tril=tf.linalg.cholesky(covariance_matrix))` instead.\n"
     ]
    },
    {
     "name": "stderr",
     "output_type": "stream",
     "text": [
      "From /Users/eemanmajumder/miniforge3/envs/env_tf/lib/python3.9/site-packages/tensorflow_probability/python/distributions/distribution.py:342: MultivariateNormalFullCovariance.__init__ (from tensorflow_probability.python.distributions.mvn_full_covariance) is deprecated and will be removed after 2019-12-01.\n",
      "Instructions for updating:\n",
      "`MultivariateNormalFullCovariance` is deprecated, use `MultivariateNormalTriL(loc=loc, scale_tril=tf.linalg.cholesky(covariance_matrix))` instead.\n"
     ]
    },
    {
     "name": "stdout",
     "output_type": "stream",
     "text": [
      "WARNING:tensorflow:From /Users/eemanmajumder/code_shit/writemeuptftwo/handwriting-synthesis/handwriting_synthesis/rnn/LSTMAttentionCell.py:145: Bernoulli.__init__ (from tensorflow.python.ops.distributions.bernoulli) is deprecated and will be removed after 2019-01-01.\n",
      "Instructions for updating:\n",
      "The TensorFlow Distributions library has moved to TensorFlow Probability (https://github.com/tensorflow/probability). You should update all references to use `tfp.distributions` instead of `tf.distributions`.\n"
     ]
    },
    {
     "name": "stderr",
     "output_type": "stream",
     "text": [
      "From /Users/eemanmajumder/code_shit/writemeuptftwo/handwriting-synthesis/handwriting_synthesis/rnn/LSTMAttentionCell.py:145: Bernoulli.__init__ (from tensorflow.python.ops.distributions.bernoulli) is deprecated and will be removed after 2019-01-01.\n",
      "Instructions for updating:\n",
      "The TensorFlow Distributions library has moved to TensorFlow Probability (https://github.com/tensorflow/probability). You should update all references to use `tfp.distributions` instead of `tf.distributions`.\n"
     ]
    },
    {
     "name": "stdout",
     "output_type": "stream",
     "text": [
      "WARNING:tensorflow:From /Users/eemanmajumder/miniforge3/envs/env_tf/lib/python3.9/site-packages/tensorflow/python/ops/distributions/bernoulli.py:86: Distribution.__init__ (from tensorflow.python.ops.distributions.distribution) is deprecated and will be removed after 2019-01-01.\n",
      "Instructions for updating:\n",
      "The TensorFlow Distributions library has moved to TensorFlow Probability (https://github.com/tensorflow/probability). You should update all references to use `tfp.distributions` instead of `tf.distributions`.\n"
     ]
    },
    {
     "name": "stderr",
     "output_type": "stream",
     "text": [
      "From /Users/eemanmajumder/miniforge3/envs/env_tf/lib/python3.9/site-packages/tensorflow/python/ops/distributions/bernoulli.py:86: Distribution.__init__ (from tensorflow.python.ops.distributions.distribution) is deprecated and will be removed after 2019-01-01.\n",
      "Instructions for updating:\n",
      "The TensorFlow Distributions library has moved to TensorFlow Probability (https://github.com/tensorflow/probability). You should update all references to use `tfp.distributions` instead of `tf.distributions`.\n"
     ]
    },
    {
     "name": "stdout",
     "output_type": "stream",
     "text": [
      "WARNING:tensorflow:From /Users/eemanmajumder/code_shit/writemeuptftwo/handwriting-synthesis/handwriting_synthesis/rnn/LSTMAttentionCell.py:146: Categorical.__init__ (from tensorflow.python.ops.distributions.categorical) is deprecated and will be removed after 2019-01-01.\n",
      "Instructions for updating:\n",
      "The TensorFlow Distributions library has moved to TensorFlow Probability (https://github.com/tensorflow/probability). You should update all references to use `tfp.distributions` instead of `tf.distributions`.\n"
     ]
    },
    {
     "name": "stderr",
     "output_type": "stream",
     "text": [
      "From /Users/eemanmajumder/code_shit/writemeuptftwo/handwriting-synthesis/handwriting_synthesis/rnn/LSTMAttentionCell.py:146: Categorical.__init__ (from tensorflow.python.ops.distributions.categorical) is deprecated and will be removed after 2019-01-01.\n",
      "Instructions for updating:\n",
      "The TensorFlow Distributions library has moved to TensorFlow Probability (https://github.com/tensorflow/probability). You should update all references to use `tfp.distributions` instead of `tf.distributions`.\n"
     ]
    },
    {
     "name": "stdout",
     "output_type": "stream",
     "text": [
      "WARNING:tensorflow:From /Users/eemanmajumder/miniforge3/envs/env_tf/lib/python3.9/site-packages/tensorflow/python/util/dispatch.py:1176: multinomial (from tensorflow.python.ops.random_ops) is deprecated and will be removed in a future version.\n",
      "Instructions for updating:\n",
      "Use `tf.random.categorical` instead.\n"
     ]
    },
    {
     "name": "stderr",
     "output_type": "stream",
     "text": [
      "From /Users/eemanmajumder/miniforge3/envs/env_tf/lib/python3.9/site-packages/tensorflow/python/util/dispatch.py:1176: multinomial (from tensorflow.python.ops.random_ops) is deprecated and will be removed in a future version.\n",
      "Instructions for updating:\n",
      "Use `tf.random.categorical` instead.\n"
     ]
    },
    {
     "name": "stdout",
     "output_type": "stream",
     "text": [
      "WARNING:tensorflow:From /Users/eemanmajumder/miniforge3/envs/env_tf/lib/python3.9/site-packages/tensorflow/python/training/rmsprop.py:188: calling Ones.__init__ (from tensorflow.python.ops.init_ops) with dtype is deprecated and will be removed in a future version.\n",
      "Instructions for updating:\n",
      "Call initializer instance with the dtype argument instead of passing it to the constructor\n"
     ]
    },
    {
     "name": "stderr",
     "output_type": "stream",
     "text": [
      "From /Users/eemanmajumder/miniforge3/envs/env_tf/lib/python3.9/site-packages/tensorflow/python/training/rmsprop.py:188: calling Ones.__init__ (from tensorflow.python.ops.init_ops) with dtype is deprecated and will be removed in a future version.\n",
      "Instructions for updating:\n",
      "Call initializer instance with the dtype argument instead of passing it to the constructor\n"
     ]
    },
    {
     "name": "stdout",
     "output_type": "stream",
     "text": [
      "INFO:tensorflow:Restoring parameters from model/checkpoint/model-17900\n"
     ]
    },
    {
     "name": "stderr",
     "output_type": "stream",
     "text": [
      "Restoring parameters from model/checkpoint/model-17900\n"
     ]
    }
   ],
   "source": [
    "from handwriting_synthesis.hand import Hand\n",
    "\n",
    "lines = [\"Arpit Toh Topper Hai\"]\n",
    "biases = [.75 for _ in lines]\n",
    "styles = [7 for _ in lines]\n",
    "# stroke_colors = ['blue','red', 'green', 'black' ]\n",
    "# stroke_colors = ['black','black', 'black', 'black','black']\n",
    "# stroke_widths = [1, 1, 1,1,1]\n",
    "\n",
    "hand = Hand()\n",
    "hand.write(\n",
    "    filename='img/usage_demo.svg',\n",
    "    lines=lines,\n",
    "    biases=biases,\n",
    "    styles=styles,\n",
    "\n",
    ")"
   ]
  }
 ],
 "metadata": {
  "kernelspec": {
   "display_name": "Python 3 (ipykernel)",
   "language": "python",
   "name": "python3"
  },
  "language_info": {
   "codemirror_mode": {
    "name": "ipython",
    "version": 3
   },
   "file_extension": ".py",
   "mimetype": "text/x-python",
   "name": "python",
   "nbconvert_exporter": "python",
   "pygments_lexer": "ipython3",
   "version": "3.9.16"
  }
 },
 "nbformat": 4,
 "nbformat_minor": 4
}
